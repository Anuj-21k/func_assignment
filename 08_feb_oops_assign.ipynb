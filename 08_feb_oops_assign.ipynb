{
 "cells": [
  {
   "cell_type": "markdown",
   "id": "62a9ef7d-cf3b-4561-bbe9-71b354a3b715",
   "metadata": {},
   "source": [
    "### Q1. What is Abstraction in OOps? Explain with an example."
   ]
  },
  {
   "cell_type": "markdown",
   "id": "8387bb30-d8da-44af-89ca-71833029f587",
   "metadata": {},
   "source": [
    "It's the process of focusing on the essential characteristics of an object while hiding its extraneous details or complexities.\n",
    "It means exposing only the relevant features and behaviors to the user, making the object easier to understand and use.\n",
    "It simplifies code by reducing complexity and promoting modularity."
   ]
  },
  {
   "cell_type": "code",
   "execution_count": 1,
   "id": "7d27c96d-9121-42cd-a7f2-73faadb91deb",
   "metadata": {},
   "outputs": [],
   "source": [
    "import abc\n",
    "class pwskills:\n",
    "    @abc.abstractmethod\n",
    "    def student_details(self):\n",
    "        pass\n",
    "    \n",
    "    @abc.abstractmethod\n",
    "    def student_assign(self):\n",
    "        pass\n",
    "    \n",
    "    @abc.abstractmethod\n",
    "\n",
    "    def student_marks(self):\n",
    "        pass"
   ]
  },
  {
   "cell_type": "code",
   "execution_count": 3,
   "id": "7a38a680-99d9-4569-883b-72af834ffa22",
   "metadata": {},
   "outputs": [],
   "source": [
    "class student_detils(pwskills):\n",
    "    \n",
    "    def student_details(self):\n",
    "        return \"st_details\"\n",
    "    \n",
    "    def student_assign(self):\n",
    "        return assignment"
   ]
  },
  {
   "cell_type": "code",
   "execution_count": 4,
   "id": "95bac80e-0fbf-4c4e-9788-3ce13c7f40c2",
   "metadata": {},
   "outputs": [],
   "source": [
    "sd = student_detils()"
   ]
  },
  {
   "cell_type": "code",
   "execution_count": 7,
   "id": "9ab79de5-1e2d-40da-aec6-3dc4859082af",
   "metadata": {},
   "outputs": [
    {
     "data": {
      "text/plain": [
       "'st_details'"
      ]
     },
     "execution_count": 7,
     "metadata": {},
     "output_type": "execute_result"
    }
   ],
   "source": [
    "sd.student_details()"
   ]
  },
  {
   "cell_type": "code",
   "execution_count": null,
   "id": "7161540f-a412-4061-93d8-8503663837b6",
   "metadata": {},
   "outputs": [],
   "source": []
  },
  {
   "cell_type": "markdown",
   "id": "b1e4ae70-353c-4128-8ab8-2e7d42c1c2d5",
   "metadata": {},
   "source": [
    "## Q2. Differentiate between Abstraction and Encapsulation. Explain with an example."
   ]
  },
  {
   "cell_type": "markdown",
   "id": "a22f8645-bc91-4bc2-b132-7b30196567c4",
   "metadata": {},
   "source": [
    "Ans:\n",
    "\n",
    "1. Abstraction:\n",
    "Hiding implementation details, exposing only essential features.\n",
    "simplifying code, reducing complexity, prompting modularity.\n",
    "\n",
    "2. Encapsulation:\n",
    "building data nad methods together, protecting data integrity.\n",
    "controlling access to data, preventing misuses, ensuring data security.\n"
   ]
  },
  {
   "cell_type": "code",
   "execution_count": 24,
   "id": "e8dc3020-3fb6-47e1-b9f0-265e60282b74",
   "metadata": {},
   "outputs": [],
   "source": [
    "#Abstraction\n",
    "import abc\n",
    "class vehicals:\n",
    "    \n",
    "    @abc.abstractmethod\n",
    "    def vehical_type(self):\n",
    "        pass\n",
    "    \n",
    "    @abc.abstractmethod\n",
    "    def Model(self):\n",
    "        pass\n",
    "    \n",
    "    @abc.abstractmethod\n",
    "    def year(self):\n",
    "        pass\n",
    "    \n",
    "    @abc.abstractmethod\n",
    "    def fuel_type(self):\n",
    "        self"
   ]
  },
  {
   "cell_type": "code",
   "execution_count": 25,
   "id": "c267fcae-e4b0-41b1-ac2f-2f3e6e26a2af",
   "metadata": {},
   "outputs": [],
   "source": [
    "class vehical_type(vehicals):\n",
    "    \n",
    "    def vehical_type(self):\n",
    "        return \"Car , Bike \"\n",
    "    \n",
    "    def Model(self):\n",
    "        return \"Sedan, Sport\"\n",
    "    \n",
    "    def year(self):\n",
    "        return \"2023 , 2024 \""
   ]
  },
  {
   "cell_type": "code",
   "execution_count": 26,
   "id": "7efb4af6-e9da-4cca-acb1-5b15918c7813",
   "metadata": {},
   "outputs": [],
   "source": [
    "vh = vehical_type()"
   ]
  },
  {
   "cell_type": "code",
   "execution_count": 27,
   "id": "eea38d7e-51c0-49be-a9d3-5a3c748f2f9e",
   "metadata": {},
   "outputs": [
    {
     "data": {
      "text/plain": [
       "'Sedan, Sport'"
      ]
     },
     "execution_count": 27,
     "metadata": {},
     "output_type": "execute_result"
    }
   ],
   "source": [
    "vh.Model()"
   ]
  },
  {
   "cell_type": "code",
   "execution_count": 19,
   "id": "d794fac4-dc28-408e-a3e9-f1e06a961a34",
   "metadata": {},
   "outputs": [],
   "source": [
    "# Encapsulation\n",
    "\n",
    "class BankAccount:\n",
    "    \n",
    "    def __init__(self, Name , Balance):\n",
    "        self._Name = Name #private\n",
    "        self.__Balance = Balance #protected\n",
    "    \n",
    "    def deposite(self, Amt):\n",
    "        self.__Balance += Amt\n",
    "        \n",
    "    def Withdraw(self, Amt):\n",
    "        if self.__Balance >= Amt:\n",
    "            self.__Balance -= Amt\n",
    "        else:\n",
    "            return \"Insufficient Balance\"\n",
    "        \n",
    "    def get_balance(self):\n",
    "        return self.__Balance\n",
    "            "
   ]
  },
  {
   "cell_type": "code",
   "execution_count": 20,
   "id": "736578fa-f638-4751-a99d-571d2a2a080b",
   "metadata": {},
   "outputs": [],
   "source": [
    "Person = BankAccount(\"Anuj\",25000)"
   ]
  },
  {
   "cell_type": "code",
   "execution_count": 21,
   "id": "f68295b7-3cdb-4388-9ef3-1dacbc15626e",
   "metadata": {},
   "outputs": [],
   "source": [
    "Person.deposite(2000)"
   ]
  },
  {
   "cell_type": "code",
   "execution_count": 22,
   "id": "4e3f3060-9e87-4ad9-8fb9-7fa9c3548362",
   "metadata": {},
   "outputs": [
    {
     "data": {
      "text/plain": [
       "27000"
      ]
     },
     "execution_count": 22,
     "metadata": {},
     "output_type": "execute_result"
    }
   ],
   "source": [
    "Person.get_balance()"
   ]
  },
  {
   "cell_type": "code",
   "execution_count": null,
   "id": "d7588c84-d21e-42be-b38f-6ce806cd6d95",
   "metadata": {},
   "outputs": [],
   "source": []
  },
  {
   "cell_type": "markdown",
   "id": "92be8ad0-36c5-47a3-bb8e-3e134f018bd8",
   "metadata": {},
   "source": [
    "## Q3. What is abc module in python? Why is it used?"
   ]
  },
  {
   "cell_type": "markdown",
   "id": "d38cc8af-5d29-410b-bce4-cee984b2ba2d",
   "metadata": {},
   "source": [
    "Ans:\n",
    "\n",
    "The \"abc\" module in python stands for \"Abstract Base Classes\". It's a built-in module that provides tool for defining abstract classes and interfaces, which are essential for implementing abstraction in OOPs.\n",
    "\n",
    "It is used to enforce clear interfaces ans ensure consistent behavior among related classes, making code more reliable, maintainable, and understandable."
   ]
  },
  {
   "cell_type": "code",
   "execution_count": null,
   "id": "30f58bdf-f066-4722-b47f-6cd2f387db16",
   "metadata": {},
   "outputs": [],
   "source": []
  },
  {
   "cell_type": "markdown",
   "id": "a1d87f2d-49d0-4594-9adf-30c2b602f3c4",
   "metadata": {},
   "source": [
    "### Q4. How can we achieve data abstraction?"
   ]
  },
  {
   "cell_type": "markdown",
   "id": "b35a224b-062a-4168-ba37-9c293250dbef",
   "metadata": {},
   "source": [
    "Ans:\n",
    "There are Two ways to achieve data abstraction in python:\n",
    "1. Abstraction Base Classes:\n",
    "it defines a blueprint for subclasses with abstract methods they must implement.\n",
    "Ensures consistent behavior and enforces interface requirements.\n",
    "\n",
    "2. Encapsulation:\n",
    "bundle data and methods together within a class, protecting data from unauthorized access.\n",
    "\n",
    "Both Methods Work together to:\n",
    "reduce complexity\n",
    "enhance modularity\n",
    "improve security"
   ]
  },
  {
   "cell_type": "markdown",
   "id": "ddc15f86-a2d9-41cf-9861-0110f7903214",
   "metadata": {},
   "source": [
    "### Q5. Can we create an instance of an abstract class? Explain your answer."
   ]
  },
  {
   "cell_type": "markdown",
   "id": "ab9aca21-10a3-44df-81d9-3a5ddef39c53",
   "metadata": {},
   "source": [
    "Ans:\n",
    "No, we cannot directly create an instance of an abstract class in Python.\n",
    "Abstract Classes are design to serve as blueprints for other classes, not as concrete object themselves.\n",
    "They defines a general concept or structure, but they don't provide complete implementation details.\n",
    "\"Python will raise a TypeError\""
   ]
  },
  {
   "cell_type": "code",
   "execution_count": 38,
   "id": "9d679234-f4d4-43b0-9673-afb9833adeca",
   "metadata": {},
   "outputs": [],
   "source": [
    "from abc import abstractmethod\n",
    "\n",
    "class Animal:\n",
    "    \n",
    "    @abstractmethod\n",
    "    def make_sound(self):\n",
    "        pass"
   ]
  },
  {
   "cell_type": "code",
   "execution_count": 39,
   "id": "086a7f05-c410-4525-9ee6-c0d7dbccd7d9",
   "metadata": {},
   "outputs": [],
   "source": [
    "class Dog(Animal):\n",
    "    def make_sound(self):\n",
    "        print(\"Bow!!\")"
   ]
  },
  {
   "cell_type": "code",
   "execution_count": 40,
   "id": "0901f535-a690-4793-974a-04559a3b11b2",
   "metadata": {},
   "outputs": [],
   "source": [
    "dog = Animal()"
   ]
  },
  {
   "cell_type": "code",
   "execution_count": null,
   "id": "1a5491e6-86cf-49ad-a4c7-731b3a13c41f",
   "metadata": {},
   "outputs": [],
   "source": []
  }
 ],
 "metadata": {
  "kernelspec": {
   "display_name": "Python 3 (ipykernel)",
   "language": "python",
   "name": "python3"
  },
  "language_info": {
   "codemirror_mode": {
    "name": "ipython",
    "version": 3
   },
   "file_extension": ".py",
   "mimetype": "text/x-python",
   "name": "python",
   "nbconvert_exporter": "python",
   "pygments_lexer": "ipython3",
   "version": "3.10.8"
  }
 },
 "nbformat": 4,
 "nbformat_minor": 5
}
