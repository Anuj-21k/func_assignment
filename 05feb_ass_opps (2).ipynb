{
 "cells": [
  {
   "cell_type": "markdown",
   "id": "636ede89-b5cb-4dab-9c71-befef7eb85f7",
   "metadata": {},
   "source": [
    "### Q1. Explain Class and Object with respect to Object-Oriented Programming. Give a suitable example."
   ]
  },
  {
   "cell_type": "markdown",
   "id": "034442c9-2d5a-455c-91f6-af623c4f095c",
   "metadata": {},
   "source": [
    "Ans:\n",
    "\n",
    "Class is a blueprint for creating a objects. It defines the attributes and methods that objects of class will have.\n",
    "\n",
    "Object is a instance of a class , it has its own specific state and behavior."
   ]
  },
  {
   "cell_type": "code",
   "execution_count": 1,
   "id": "799439f3-ad7b-43d0-947d-983421313462",
   "metadata": {},
   "outputs": [],
   "source": [
    "class car:\n",
    "    def __init__(self, model, color, year):\n",
    "        self.model = model\n",
    "        self.color = color\n",
    "        self.year = year\n",
    "        \n",
    "    def start_engine(self):\n",
    "        print(self.model, \"is starting\")"
   ]
  },
  {
   "cell_type": "code",
   "execution_count": 2,
   "id": "36b0ecfb-5b6f-4abb-983c-0f1e680de21c",
   "metadata": {},
   "outputs": [],
   "source": [
    "my_car = car(\"Honda City\",\"White\",\"2023\") #object"
   ]
  },
  {
   "cell_type": "code",
   "execution_count": 3,
   "id": "2d3ae364-a3f7-4d62-bb27-72ae33fc92d0",
   "metadata": {},
   "outputs": [
    {
     "data": {
      "text/plain": [
       "'Honda City'"
      ]
     },
     "execution_count": 3,
     "metadata": {},
     "output_type": "execute_result"
    }
   ],
   "source": [
    "my_car.model"
   ]
  },
  {
   "cell_type": "code",
   "execution_count": 4,
   "id": "ebbb2912-b780-49b9-8071-be62bcde44bb",
   "metadata": {},
   "outputs": [
    {
     "data": {
      "text/plain": [
       "'White'"
      ]
     },
     "execution_count": 4,
     "metadata": {},
     "output_type": "execute_result"
    }
   ],
   "source": [
    "my_car.color"
   ]
  },
  {
   "cell_type": "code",
   "execution_count": 5,
   "id": "c081bac2-1698-483f-acbb-6dcedbe168be",
   "metadata": {},
   "outputs": [
    {
     "data": {
      "text/plain": [
       "'2023'"
      ]
     },
     "execution_count": 5,
     "metadata": {},
     "output_type": "execute_result"
    }
   ],
   "source": [
    "my_car.year"
   ]
  },
  {
   "cell_type": "code",
   "execution_count": 7,
   "id": "2f7a3ad5-4246-4098-9045-d74e66e5288d",
   "metadata": {},
   "outputs": [
    {
     "name": "stdout",
     "output_type": "stream",
     "text": [
      "Honda City is starting\n"
     ]
    }
   ],
   "source": [
    "my_car.start_engine()"
   ]
  },
  {
   "cell_type": "markdown",
   "id": "75789819-0d5b-4fbd-a9ba-d81f9c76b40e",
   "metadata": {},
   "source": [
    "### Q2. Name the four pillars of OOPs."
   ]
  },
  {
   "cell_type": "markdown",
   "id": "b8aba920-0d85-4836-85a8-55f18b3df1cc",
   "metadata": {},
   "source": [
    "four pillars of OOPs are:\n",
    "1. *Abstraction*: ability to focus on essential details of an object and hide its internal complexities. we expose only necessary functionalities to users while keeping the inner working hidden.\n",
    "2. Encapsulation : Refers to bundung data and methods together within a class, creating a self-contained unit. \n",
    "3. Inheritance: allows new classes to inherit attributes and methos from existing classes , promoting code reuse and reducing redundancy.\n",
    "4. Polymorphism: refers to ability of object to have different behvaiours depending on thier type."
   ]
  },
  {
   "cell_type": "markdown",
   "id": "7413cbbf-0e5f-4abe-93b8-f762e4adfd6d",
   "metadata": {},
   "source": [
    "### Q3. Explain why the __init__() function is used. Give a suitable example."
   ]
  },
  {
   "cell_type": "markdown",
   "id": "120d3717-9293-4b59-8a37-2cd444ff5010",
   "metadata": {},
   "source": [
    "The __init__() function, also known as the constructor, is a special method in Python classes that is automatically invoked when a new object is created.\n",
    "Its primary purpose is to initialize the object's attributes\n",
    "with appropriate values, \n"
   ]
  },
  {
   "cell_type": "code",
   "execution_count": 8,
   "id": "248d6dbf-fab2-4f00-8e53-012d1ba0a1f4",
   "metadata": {},
   "outputs": [],
   "source": [
    "class person:\n",
    "    \n",
    "    def __init__(self, name, age):\n",
    "        self.name = name\n",
    "        self.age = age"
   ]
  },
  {
   "cell_type": "code",
   "execution_count": 9,
   "id": "231cbf33-3e54-40c9-94a7-bd8aad95561d",
   "metadata": {},
   "outputs": [],
   "source": [
    "per1 = person(\"Anuj\",21)"
   ]
  },
  {
   "cell_type": "code",
   "execution_count": 11,
   "id": "aa330b2d-6d01-4346-a1cc-0d09f340982e",
   "metadata": {},
   "outputs": [
    {
     "data": {
      "text/plain": [
       "'Anuj'"
      ]
     },
     "execution_count": 11,
     "metadata": {},
     "output_type": "execute_result"
    }
   ],
   "source": [
    "per1.name"
   ]
  },
  {
   "cell_type": "code",
   "execution_count": 12,
   "id": "19aa9202-e037-4698-ac49-ba186a0ce5fa",
   "metadata": {},
   "outputs": [
    {
     "data": {
      "text/plain": [
       "21"
      ]
     },
     "execution_count": 12,
     "metadata": {},
     "output_type": "execute_result"
    }
   ],
   "source": [
    "per1.age"
   ]
  },
  {
   "cell_type": "markdown",
   "id": "33d10700-8c4c-43d9-a762-5393ab21e9c6",
   "metadata": {},
   "source": [
    "### Q5. What is inheritance? Give an example for each type of inheritance."
   ]
  },
  {
   "cell_type": "markdown",
   "id": "1762c79f-d822-43df-b7c0-e129d2337589",
   "metadata": {},
   "source": [
    "\n",
    "Inheritance is a fundamental concept in OOP that allows new classes to inherit attributes and methods from existing classes."
   ]
  },
  {
   "cell_type": "code",
   "execution_count": 14,
   "id": "5dab2cf8-356a-4ea4-befd-1f7d111a8e8a",
   "metadata": {},
   "outputs": [],
   "source": [
    "# 1. single inheritance\n",
    "\n",
    "class Animal:\n",
    "    def __init__(self, name):\n",
    "        self.name = name\n",
    "\n",
    "    def eat(self):\n",
    "        print(self.name, \" is eating.\")\n",
    "\n",
    "class Dog(Animal):\n",
    "    def bark(self):\n",
    "        print(\"Woof!\")\n"
   ]
  },
  {
   "cell_type": "code",
   "execution_count": 15,
   "id": "9bbd0dca-3cef-48dd-a7ec-17b701abcbc5",
   "metadata": {},
   "outputs": [],
   "source": [
    "# 2. Multiple Inheritance\n",
    "\n",
    "class Musician:\n",
    "    def play_instrument(self):\n",
    "        print(\"Playing an instrument.\")\n",
    "\n",
    "class Singer:\n",
    "    def sing(self):\n",
    "        print(\"Singing a song.\")\n",
    "\n",
    "class SingerSongwriter(Musician, Singer):\n",
    "    def perform(self):\n",
    "        self.play_instrument()\n",
    "        self.sing()\n"
   ]
  },
  {
   "cell_type": "code",
   "execution_count": 16,
   "id": "3927f328-f93a-4797-9132-dda8685a3dd6",
   "metadata": {},
   "outputs": [],
   "source": [
    "# 3. Multilevel Inheritance\n",
    "\n",
    "class Vehicle:\n",
    "    pass\n",
    "\n",
    "class Car(Vehicle):\n",
    "    pass\n",
    "\n",
    "class ElectricCar(Car):\n",
    "    pass\n"
   ]
  },
  {
   "cell_type": "code",
   "execution_count": 17,
   "id": "cbd2d8f6-72f1-4975-b5ad-c48e2cfdac51",
   "metadata": {},
   "outputs": [],
   "source": [
    "# 4. Hierarchical Inheritance\n",
    "\n",
    "class Employee:\n",
    "    pass\n",
    "\n",
    "class Manager(Employee):\n",
    "    pass\n",
    "\n",
    "class Developer(Employee):\n",
    "    pass\n",
    "\n",
    "class Designer(Employee):\n",
    "    pass\n"
   ]
  },
  {
   "cell_type": "code",
   "execution_count": 19,
   "id": "875ea65a-634b-4598-bf67-a62082a6ba04",
   "metadata": {},
   "outputs": [],
   "source": [
    "# 5. Hybrid Inheritance\n",
    "\n",
    "class Animal:\n",
    "    pass\n",
    "\n",
    "class Mammal(Animal):\n",
    "    pass\n",
    "\n",
    "class Bird(Animal):\n",
    "    pass\n",
    "\n",
    "class Bat(Mammal, Bird):  # Inherits from both Mammal and Bird\n",
    "    pass\n"
   ]
  },
  {
   "cell_type": "code",
   "execution_count": null,
   "id": "bf847110-6ff8-4695-b75c-f8e4e5a0eed7",
   "metadata": {},
   "outputs": [],
   "source": []
  }
 ],
 "metadata": {
  "kernelspec": {
   "display_name": "Python 3 (ipykernel)",
   "language": "python",
   "name": "python3"
  },
  "language_info": {
   "codemirror_mode": {
    "name": "ipython",
    "version": 3
   },
   "file_extension": ".py",
   "mimetype": "text/x-python",
   "name": "python",
   "nbconvert_exporter": "python",
   "pygments_lexer": "ipython3",
   "version": "3.10.8"
  }
 },
 "nbformat": 4,
 "nbformat_minor": 5
}
